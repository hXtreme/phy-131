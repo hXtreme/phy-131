{
 "cells": [
  {
   "cell_type": "markdown",
   "metadata": {},
   "source": [
    "# Exam 1\n",
    "_Date: 26 Jun, 2020_  \n",
    "__Name: Harsh Parekh__  \n",
    "__ID: hnp29__"
   ]
  },
  {
   "cell_type": "code",
   "execution_count": 1,
   "metadata": {},
   "outputs": [],
   "source": [
    "from math import *\n",
    "from cmath import *\n",
    "import numpy as np\n",
    "\n",
    "rtd = 180.0/pi\n",
    "dtr = pi/180"
   ]
  },
  {
   "cell_type": "code",
   "execution_count": 2,
   "metadata": {},
   "outputs": [],
   "source": [
    "def f_polar(r, theta):\n",
    "    x = r*cos(theta)\n",
    "    y = r*sin(theta)\n",
    "    return complex(x, y)"
   ]
  },
  {
   "cell_type": "markdown",
   "metadata": {},
   "source": [
    "## Question 1"
   ]
  },
  {
   "cell_type": "code",
   "execution_count": 3,
   "metadata": {},
   "outputs": [
    {
     "data": {
      "text/plain": [
       "36.86989764584402"
      ]
     },
     "execution_count": 3,
     "metadata": {},
     "output_type": "execute_result"
    }
   ],
   "source": [
    "A = 5 + 5j\n",
    "B = 7 + 1j\n",
    "\n",
    "rtd*(phase(A) - phase(B))"
   ]
  },
  {
   "cell_type": "markdown",
   "metadata": {},
   "source": [
    "## Question 2"
   ]
  },
  {
   "cell_type": "code",
   "execution_count": 4,
   "metadata": {},
   "outputs": [
    {
     "data": {
      "text/plain": [
       "12.649110640673518"
      ]
     },
     "execution_count": 4,
     "metadata": {},
     "output_type": "execute_result"
    }
   ],
   "source": [
    "A = 3 + 9j\n",
    "B = 1 + 3j\n",
    "\n",
    "abs(A + B)"
   ]
  },
  {
   "cell_type": "markdown",
   "metadata": {},
   "source": [
    "## Question 3"
   ]
  },
  {
   "cell_type": "code",
   "execution_count": 5,
   "metadata": {},
   "outputs": [
    {
     "data": {
      "text/plain": [
       "71.56505117707799"
      ]
     },
     "execution_count": 5,
     "metadata": {},
     "output_type": "execute_result"
    }
   ],
   "source": [
    "A = 3 + 9j\n",
    "B = 1 + 3j\n",
    "\n",
    "rtd*phase(A + B)"
   ]
  },
  {
   "cell_type": "markdown",
   "metadata": {},
   "source": [
    "## Question 4"
   ]
  },
  {
   "cell_type": "code",
   "execution_count": 6,
   "metadata": {},
   "outputs": [
    {
     "data": {
      "text/plain": [
       "17.08763582558397"
      ]
     },
     "execution_count": 6,
     "metadata": {},
     "output_type": "execute_result"
    }
   ],
   "source": [
    "A = f_polar(25, dtr*30)\n",
    "B = f_polar(10, dtr*60)\n",
    "\n",
    "abs(A - B)"
   ]
  },
  {
   "cell_type": "markdown",
   "metadata": {},
   "source": [
    "## Question 5 - 9"
   ]
  },
  {
   "cell_type": "code",
   "execution_count": 7,
   "metadata": {},
   "outputs": [
    {
     "name": "stdout",
     "output_type": "stream",
     "text": [
      "5) v_5   : 38\n",
      "6) a_5   : 6\n",
      "7) s     : 175\n",
      "8) v_avg : 35.0\n",
      "9) a_avg : 6.0\n"
     ]
    }
   ],
   "source": [
    "x = lambda t: 3*(t**2) + 8*t - 10\n",
    "v = lambda t: 6*t + 8\n",
    "a = lambda t: 6\n",
    "\n",
    "s = x(7) - x(2)\n",
    "v_avg = s / (7 - 2)\n",
    "a_avg = (v(7) - v(2)) / (7 - 2)\n",
    "print(\n",
    "    f'5) v_5   : {v(5)}',\n",
    "    f'6) a_5   : {a(5)}',\n",
    "    f'7) s     : {s}',\n",
    "    f'8) v_avg : {v_avg}',\n",
    "    f'9) a_avg : {a_avg}',\n",
    "    sep='\\n'\n",
    ")"
   ]
  },
  {
   "cell_type": "markdown",
   "metadata": {},
   "source": [
    "## Question 10"
   ]
  },
  {
   "cell_type": "code",
   "execution_count": 8,
   "metadata": {},
   "outputs": [
    {
     "data": {
      "text/plain": [
       "3.3485889431663027"
      ]
     },
     "execution_count": 8,
     "metadata": {},
     "output_type": "execute_result"
    }
   ],
   "source": [
    "def time_to_fall(h, g=9.81, u=0):\n",
    "    if u != 0:\n",
    "        raise NotImplementedError()\n",
    "    return (2*h / g)**0.5\n",
    "\n",
    "time_to_fall(55)"
   ]
  },
  {
   "cell_type": "markdown",
   "metadata": {},
   "source": [
    "## Question 11"
   ]
  },
  {
   "cell_type": "code",
   "execution_count": 9,
   "metadata": {},
   "outputs": [
    {
     "data": {
      "text/plain": [
       "12.46788990825688"
      ]
     },
     "execution_count": 9,
     "metadata": {},
     "output_type": "execute_result"
    }
   ],
   "source": [
    "def max_height(u, g=9.81, x0=0):\n",
    "    return (u**2 / (2*g)) + x0\n",
    "u=15\n",
    "max_height(u, x0=1)"
   ]
  },
  {
   "cell_type": "markdown",
   "metadata": {},
   "source": [
    "## Question 12"
   ]
  },
  {
   "cell_type": "code",
   "execution_count": 10,
   "metadata": {},
   "outputs": [
    {
     "data": {
      "text/plain": [
       "22.477064220183486"
      ]
     },
     "execution_count": 10,
     "metadata": {},
     "output_type": "execute_result"
    }
   ],
   "source": [
    "def drop_height(v=None, t=None, g=9.81):\n",
    "    if (v is None) == (t is None):\n",
    "        raise AttributeError(\"Exaxtly one of u or t must be specified.\")\n",
    "    if (v is None):\n",
    "        return g*(t**2) / 2\n",
    "    else:\n",
    "        return v**2 / (2*g)\n",
    "\n",
    "drop_height(v=21)"
   ]
  },
  {
   "cell_type": "markdown",
   "metadata": {},
   "source": [
    "## Question 13 - 14\n",
    "\n",
    "13: 0 m/s  \n",
    "14: 1.5s (symmetry)"
   ]
  },
  {
   "cell_type": "markdown",
   "metadata": {},
   "source": [
    "## Question 15 - 17"
   ]
  },
  {
   "cell_type": "code",
   "execution_count": 11,
   "metadata": {},
   "outputs": [
    {
     "name": "stdout",
     "output_type": "stream",
     "text": [
      "15) t   : 1.3785712921205282\n",
      "16) d_x : 79.96223341017671\n",
      "17) h   : 10.821750450585721\n"
     ]
    },
    {
     "data": {
      "text/plain": [
       "182.89274384049187"
      ]
     },
     "execution_count": 11,
     "metadata": {},
     "output_type": "execute_result"
    }
   ],
   "source": [
    "u = f_polar(32, dtr*25)\n",
    "g = 9.81\n",
    "x0 = 1.5\n",
    "\n",
    "t = u.imag/g\n",
    "d_x = u.real * (2*t)\n",
    "\n",
    "print(\n",
    "    f'15) t   : {t}',\n",
    "    f'16) d_x : {d_x}',\n",
    "    f'17) h   : {max_height(u.imag, x0=x0)}',\n",
    "    sep='\\n'\n",
    ")\n",
    "u.imag **2"
   ]
  },
  {
   "cell_type": "markdown",
   "metadata": {},
   "source": [
    "## Question 18\n",
    "\n",
    "A: 2i - 5j m/s"
   ]
  },
  {
   "cell_type": "markdown",
   "metadata": {},
   "source": [
    "## Question 19"
   ]
  },
  {
   "cell_type": "code",
   "execution_count": 12,
   "metadata": {},
   "outputs": [
    {
     "name": "stdout",
     "output_type": "stream",
     "text": [
      "35.0i -25.0j\n"
     ]
    }
   ],
   "source": [
    "cop = 25j\n",
    "civ = 35\n",
    "\n",
    "civ_rel_cop = civ - cop\n",
    "print(\n",
    "    f'{civ_rel_cop.real}i {civ_rel_cop.imag}j'\n",
    ")"
   ]
  },
  {
   "cell_type": "markdown",
   "metadata": {},
   "source": [
    "## Question 20"
   ]
  },
  {
   "cell_type": "code",
   "execution_count": 13,
   "metadata": {},
   "outputs": [
    {
     "data": {
      "text/plain": [
       "-35.53767779197438"
      ]
     },
     "execution_count": 13,
     "metadata": {},
     "output_type": "execute_result"
    }
   ],
   "source": [
    "v = 35 - 25j\n",
    "\n",
    "rtd*phase(v)"
   ]
  }
 ],
 "metadata": {
  "kernelspec": {
   "display_name": "Python 3",
   "language": "python",
   "name": "python3"
  },
  "language_info": {
   "codemirror_mode": {
    "name": "ipython",
    "version": 3
   },
   "file_extension": ".py",
   "mimetype": "text/x-python",
   "name": "python",
   "nbconvert_exporter": "python",
   "pygments_lexer": "ipython3",
   "version": "3.8.3"
  }
 },
 "nbformat": 4,
 "nbformat_minor": 4
}
