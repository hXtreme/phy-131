{
 "cells": [
  {
   "cell_type": "markdown",
   "metadata": {},
   "source": [
    "# Exam 2\n",
    "_Date: 3 July, 2020_  \n",
    "__Name: Harsh Parekh__  \n",
    "__ID: hnp29__"
   ]
  },
  {
   "cell_type": "code",
   "execution_count": 1,
   "metadata": {},
   "outputs": [],
   "source": [
    "from math import *\n",
    "from cmath import *\n",
    "from typing import *\n",
    "import numpy as np\n",
    "\n",
    "rtd = 180.0/pi\n",
    "dtr = pi/180"
   ]
  },
  {
   "cell_type": "code",
   "execution_count": 2,
   "metadata": {},
   "outputs": [],
   "source": [
    "def f_polar(r, theta) -> complex:\n",
    "    x = r*cos(theta)\n",
    "    y = r*sin(theta)\n",
    "    return complex(x, y)\n",
    "\n",
    "def t_rect(x: complex) -> Tuple[float, float]:\n",
    "    return (x.real, x.imag)\n",
    "\n",
    "def dot(vec1: complex, vec2: complex) -> float:\n",
    "    x1, y1 = t_rect(vec1)\n",
    "    x2, y2 = t_rect(vec2)\n",
    "    return (x1 * x2) + (y1* y2)"
   ]
  },
  {
   "cell_type": "markdown",
   "metadata": {},
   "source": [
    "## Question 1 - 3"
   ]
  },
  {
   "cell_type": "code",
   "execution_count": 3,
   "metadata": {},
   "outputs": [
    {
     "name": "stdout",
     "output_type": "stream",
     "text": [
      "Ans 01 = (3.5+0.5j)\n",
      "Ans 02 = 3.5355339059327378, 8.13010235415598\n",
      "Ans 03 = 1.5\n"
     ]
    }
   ],
   "source": [
    "A = 1.0 + 3.0j\n",
    "B = 2.5 - 1.5j \n",
    "C = 1.0j\n",
    "\n",
    "Ans1 = (A + B) - C\n",
    "Ans2_r, Ans2_th = polar(Ans1)\n",
    "Ans2_th *= rtd\n",
    "Ans3 = dot((A + B), C)\n",
    "\n",
    "print(\n",
    "    f'Ans 01 = {Ans1}',\n",
    "    f'Ans 02 = {Ans2_r}, {Ans2_th}',\n",
    "    f'Ans 03 = {Ans3}',\n",
    "    sep='\\n'\n",
    ")"
   ]
  },
  {
   "cell_type": "markdown",
   "metadata": {},
   "source": [
    "## Question 4 - 6"
   ]
  },
  {
   "cell_type": "code",
   "execution_count": 4,
   "metadata": {},
   "outputs": [
    {
     "name": "stdout",
     "output_type": "stream",
     "text": [
      "Ans 04 = (42.478546055626715+0j)N\n",
      "Ans 05 = (24.52500000000001+0j)N\n",
      "Ans 06 = (-8.495709211125343+0j)m/s\n"
     ]
    }
   ],
   "source": [
    "g = -9.81\n",
    "m = 5\n",
    "th = 60*dtr\n",
    "\n",
    "T = -m*g*sin(th)\n",
    "N = -m*g*cos(th)\n",
    "a = g*sin(th)\n",
    "print(\n",
    "    f'Ans 04 = {T}N',\n",
    "    f'Ans 05 = {N}N',\n",
    "    f'Ans 06 = {a}m/s',\n",
    "    sep='\\n'\n",
    ")"
   ]
  },
  {
   "cell_type": "markdown",
   "metadata": {},
   "source": [
    "## Question 7 - 8"
   ]
  },
  {
   "cell_type": "code",
   "execution_count": 5,
   "metadata": {},
   "outputs": [
    {
     "name": "stdout",
     "output_type": "stream",
     "text": [
      "Ans 07 = 4.281345565749234kg\n",
      "Ans 08 = 6.116207951070336kg\n"
     ]
    }
   ],
   "source": [
    "T_rope = 102\n",
    "T_conn = 60\n",
    "\n",
    "m1_m2 = T_rope / abs(g)\n",
    "m2 = T_conn / abs(g)\n",
    "\n",
    "m1 = m1_m2 - m2\n",
    "\n",
    "print(\n",
    "    f'Ans 07 = {m1}kg',\n",
    "    f'Ans 08 = {m2}kg',\n",
    "    sep='\\n'\n",
    ")"
   ]
  },
  {
   "cell_type": "markdown",
   "metadata": {},
   "source": [
    "## Question 9 - 10"
   ]
  },
  {
   "cell_type": "code",
   "execution_count": 6,
   "metadata": {},
   "outputs": [
    {
     "name": "stdout",
     "output_type": "stream",
     "text": [
      "Ans 09 = 3.6363636363636362m/s\n",
      "Ans 10 = 20N\n"
     ]
    }
   ],
   "source": [
    "m1, m2 = 2.5, 3\n",
    "m1_m2 = m1 + m2\n",
    "T = 20\n",
    "\n",
    "a_1_2 = T / m1_m2\n",
    "T_conn = T\n",
    "print(\n",
    "    f'Ans 09 = {a_1_2}m/s',\n",
    "    f'Ans 10 = {T_conn}N',\n",
    "    sep='\\n'\n",
    ")"
   ]
  },
  {
   "cell_type": "markdown",
   "metadata": {},
   "source": [
    "## Question 11 - 12"
   ]
  },
  {
   "cell_type": "code",
   "execution_count": 7,
   "metadata": {},
   "outputs": [
    {
     "name": "stdout",
     "output_type": "stream",
     "text": [
      "Ans 11 = The rock will move\n",
      "Ans 12= 24.42376211353316N\n"
     ]
    }
   ],
   "source": [
    "mu_s, mu_k = 0.6, 0.3\n",
    "m = 1\n",
    "w = m*g*1j\n",
    "F = f_polar(30, 30*dtr)\n",
    "\n",
    "f_s = (F.imag + w.imag) * mu_s\n",
    "f_k = (-mu_k) * (F + w).imag\n",
    "F_net = F + f_k + w\n",
    "print(\n",
    "    f'Ans 11 = The rock will{\" not\" if f_s > abs(F.real) else \"\"} move',\n",
    "    f'Ans 12= {F_net.real}N',\n",
    "    sep='\\n'\n",
    ")"
   ]
  },
  {
   "cell_type": "markdown",
   "metadata": {},
   "source": [
    "## Question 13 - 14"
   ]
  },
  {
   "cell_type": "code",
   "execution_count": 8,
   "metadata": {},
   "outputs": [
    {
     "name": "stdout",
     "output_type": "stream",
     "text": [
      "Ans 13 = (-3.6787500000000013+0j)N\n",
      "Ans 14 = Not possiple\n"
     ]
    }
   ],
   "source": [
    "m = 2.5\n",
    "th = 60*dtr\n",
    "mu_k = 0.3\n",
    "\n",
    "f_k = (m)*g*cos(th)*mu_k\n",
    "mu_min = abs(tan(th))\n",
    "\n",
    "print(\n",
    "    f'Ans 13 = {f_k}N',\n",
    "    f'Ans 14 = {\"Not possiple\" if mu_min >= 1 else mu_min}',\n",
    "    sep='\\n'\n",
    ")"
   ]
  },
  {
   "cell_type": "markdown",
   "metadata": {},
   "source": [
    "## Question 15 - 16"
   ]
  },
  {
   "cell_type": "code",
   "execution_count": 9,
   "metadata": {},
   "outputs": [
    {
     "name": "stdout",
     "output_type": "stream",
     "text": [
      "Ans 15 = 490.5N/m\n",
      "Ans 16 = 30.0kg\n"
     ]
    }
   ],
   "source": [
    "m = 10\n",
    "x = -20e-2\n",
    "\n",
    "k = (m*g) / x\n",
    "\n",
    "x2 = -60e-2\n",
    "m2 = (k*x2) / g\n",
    "\n",
    "print(\n",
    "    f'Ans 15 = {k}N/m',\n",
    "    f'Ans 16 = {m2}kg',\n",
    "    sep='\\n'\n",
    ")"
   ]
  },
  {
   "cell_type": "markdown",
   "metadata": {},
   "source": [
    "## Question 17 -18"
   ]
  },
  {
   "cell_type": "code",
   "execution_count": 10,
   "metadata": {},
   "outputs": [
    {
     "name": "stdout",
     "output_type": "stream",
     "text": [
      "Ans 17 = 4.8J\n",
      "Ans 18 = 1.0954451150103321 m/s\n"
     ]
    }
   ],
   "source": [
    "m, k = 8, 3000\n",
    "x1 = 6e-2\n",
    "x2 = 2e-2\n",
    "W = (-k * (x2**2 - x1**2)) / 2\n",
    "\n",
    "# Energy conservation\n",
    "# 0 + (kx1**2 / 2) = KE + (kx2**2 / 2)\n",
    "# KE = W\n",
    "# v = sqrt(2*W/m)\n",
    "\n",
    "v = sqrt((2 * W) / m)\n",
    "\n",
    "print(\n",
    "    f'Ans 17 = {W}J',\n",
    "    f'Ans 18 = {v.real} m/s',\n",
    "    sep='\\n'\n",
    ")"
   ]
  },
  {
   "cell_type": "markdown",
   "metadata": {},
   "source": [
    "## Question 19\n",
    "$$\n",
    "    W = F\\cdot \\bar{d} = Fdcos\\theta\n",
    "$$\n",
    "\n",
    "$ Fd cos(\\frac{\\pi}{2}) $  \n",
    "$ W = 0J $  \n",
    "Ans 19 = 0J."
   ]
  },
  {
   "cell_type": "markdown",
   "metadata": {},
   "source": [
    "## Question 20"
   ]
  },
  {
   "cell_type": "code",
   "execution_count": 11,
   "metadata": {},
   "outputs": [
    {
     "name": "stdout",
     "output_type": "stream",
     "text": [
      "Ans 20 = 54.37846722219899J\n"
     ]
    }
   ],
   "source": [
    "x = 6\n",
    "F = f_polar(10, 25*dtr)\n",
    "W = dot(F, x)\n",
    "\n",
    "print(\n",
    "    f'Ans 20 = {W}J',\n",
    "    sep='\\n'\n",
    ")"
   ]
  }
 ],
 "metadata": {
  "kernelspec": {
   "display_name": "Python 3",
   "language": "python",
   "name": "python3"
  },
  "language_info": {
   "codemirror_mode": {
    "name": "ipython",
    "version": 3
   },
   "file_extension": ".py",
   "mimetype": "text/x-python",
   "name": "python",
   "nbconvert_exporter": "python",
   "pygments_lexer": "ipython3",
   "version": "3.8.3"
  }
 },
 "nbformat": 4,
 "nbformat_minor": 4
}
