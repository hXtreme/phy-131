{
 "cells": [
  {
   "cell_type": "markdown",
   "metadata": {},
   "source": [
    "# Exam 3\n",
    "_Date: 10 July, 2020_  \n",
    "__Name: Harsh Parekh__  \n",
    "__ID: hnp29__"
   ]
  },
  {
   "cell_type": "code",
   "execution_count": 1,
   "metadata": {},
   "outputs": [],
   "source": [
    "%load_ext lab_black\n",
    "\n",
    "from collections import namedtuple\n",
    "\n",
    "from math import *\n",
    "from cmath import *\n",
    "from typing import *\n",
    "import numpy as np\n",
    "\n",
    "Ans = namedtuple(\"Answer\", [\"num\", \"ans\", \"unit\"])\n",
    "\n",
    "\n",
    "answers = list()\n",
    "\n",
    "\n",
    "def print_ans(i: int = None, ans: Ans = None):\n",
    "    if i is not None:\n",
    "        ans = answers[i - 1]\n",
    "    if type(ans.ans) is type(0.0):\n",
    "        print(f\"Ans {ans.num:02}: \\t {ans.ans:.2f} {ans.unit}\")\n",
    "    else:\n",
    "        print(f\"Ans {ans.num:02}: \\t {ans.ans} {ans.unit}\")\n",
    "\n",
    "\n",
    "rtd = 180.0 / pi\n",
    "dtr = pi / 180"
   ]
  },
  {
   "cell_type": "code",
   "execution_count": 2,
   "metadata": {},
   "outputs": [],
   "source": [
    "def f_polar(r, theta) -> complex:\n",
    "    x = r * cos(theta)\n",
    "    y = r * sin(theta)\n",
    "    return complex(x, y)\n",
    "\n",
    "\n",
    "def t_rect(x: complex) -> Tuple[float, float]:\n",
    "    return (x.real, x.imag)\n",
    "\n",
    "\n",
    "def dot(vec1: complex, vec2: complex) -> float:\n",
    "    x1, y1 = t_rect(vec1)\n",
    "    x2, y2 = t_rect(vec2)\n",
    "    return (x1 * x2) + (y1 * y2)"
   ]
  },
  {
   "cell_type": "code",
   "execution_count": 3,
   "metadata": {},
   "outputs": [],
   "source": [
    "def solve_prod_eq_3(\n",
    "    x1: float = None, x2: float = None, x3: float = None, val: float = None\n",
    ") -> (float, float, float, float):\n",
    "    check_param = (val is None) + (x3 is None) + (x2 is None) + (x1 is None)\n",
    "    assert check_param <= 1\n",
    "    if val is None:\n",
    "        val = x1 * x2 * x3\n",
    "    if x3 is None:\n",
    "        x3 = val / (x1 * x2)\n",
    "    if x2 is None:\n",
    "        x2 = val / (x1 * x3)\n",
    "    if x1 is None:\n",
    "        x1 = val / (x2 * x3)\n",
    "    return (x1, x2, x3, val)"
   ]
  },
  {
   "cell_type": "code",
   "execution_count": 4,
   "metadata": {},
   "outputs": [],
   "source": [
    "mgh = lambda m, g, h: m * g * h\n",
    "\n",
    "\n",
    "def solve_mgh(\n",
    "    m: float = None, g: float = None, h: float = None, val: float = None\n",
    ") -> (float, float, float, float):\n",
    "    return solve_prod_eq_3(x1=m, x2=g, x3=h, val=val)\n",
    "\n",
    "\n",
    "elastic = lambda k, x: (0.5 * k) * (x ** 2)\n",
    "\n",
    "\n",
    "def solve_elastic(\n",
    "    k: float = None, x: float = None, val: float = None\n",
    ") -> (float, float, float):\n",
    "    (_, k, x2, val) = solve_prod_eq_3(\n",
    "        x1=0.5, x2=k, x3=(v ** 2 if v is not None else None), val=val\n",
    "    )\n",
    "    x = sqrt(x2)\n",
    "    return (k, x, val)\n",
    "\n",
    "\n",
    "ke_tr = lambda m, v: (0.5 * m) * (v ** 2)\n",
    "\n",
    "\n",
    "def solve_ke_transl(\n",
    "    m: float = None, v: float = None, val: float = None\n",
    ") -> (float, float, float):\n",
    "    (_, m, v2, val) = solve_prod_eq_3(\n",
    "        x1=0.5, x2=m, x3=(v ** 2 if v is not None else None), val=val\n",
    "    )\n",
    "    v = v2 ** 0.5\n",
    "    return (m, v, val)\n",
    "\n",
    "\n",
    "ke_rot = lambda i, omega: (0.5 * i) * (omega ** 2)\n",
    "\n",
    "\n",
    "def solve_ke_rot(\n",
    "    i: float = None, omega: float = None, val: float = None\n",
    ") -> (float, float, float):\n",
    "    (_, i, omega2, val) = solve_prod_eq_3(\n",
    "        x1=0.5, x2=i, x3=(omega ** 2 if omega is not None else None), val=val\n",
    "    )\n",
    "    omega = (omega2) ** 0.5\n",
    "    return (i, omega, val)"
   ]
  },
  {
   "cell_type": "markdown",
   "metadata": {},
   "source": [
    "## Question 1"
   ]
  },
  {
   "cell_type": "code",
   "execution_count": 5,
   "metadata": {},
   "outputs": [
    {
     "name": "stdout",
     "output_type": "stream",
     "text": [
      "Ans 01: \t 15.96 m/s\n"
     ]
    }
   ],
   "source": [
    "g = 9.8\n",
    "\n",
    "hi, hf = 28, 15\n",
    "dh = 28 - 15\n",
    "v2 = g * dh * 2\n",
    "(_, v, _) = solve_ke_transl(m=1, val=mgh(1, g, hi) - mgh(1, g, hf))\n",
    "\n",
    "answers.append(Ans(1, v, \"m/s\"))\n",
    "print_ans(1)"
   ]
  },
  {
   "cell_type": "markdown",
   "metadata": {},
   "source": [
    "## Question 2"
   ]
  },
  {
   "cell_type": "code",
   "execution_count": 6,
   "metadata": {},
   "outputs": [
    {
     "name": "stdout",
     "output_type": "stream",
     "text": [
      "Ans 02: \t 19.97 m/s\n"
     ]
    }
   ],
   "source": [
    "g = 9.8\n",
    "\n",
    "hi, hf = 28, 15\n",
    "vi = 12\n",
    "e = ke_tr(1, vi) + mgh(1, g, hi) - mgh(1, g, hf)\n",
    "v = (e * 2) ** 0.5\n",
    "\n",
    "answers.append(Ans(2, v, \"m/s\"))\n",
    "print_ans(2)"
   ]
  },
  {
   "cell_type": "markdown",
   "metadata": {},
   "source": [
    "## Question 3 - 4"
   ]
  },
  {
   "cell_type": "code",
   "execution_count": 7,
   "metadata": {},
   "outputs": [
    {
     "name": "stdout",
     "output_type": "stream",
     "text": [
      "Ans 03: \t 375.00 N/m\n",
      "Ans 04: \t 1.22 m/s\n"
     ]
    }
   ],
   "source": [
    "m = 0.5\n",
    "F = 15\n",
    "dx = 4e-2\n",
    "k = F / dx\n",
    "\n",
    "A = 6e-2\n",
    "e = elastic(k, A) - elastic(k, dx)\n",
    "v = (e * 2 / m) ** 0.5\n",
    "\n",
    "answers.extend([Ans(3, k, \"N/m\"), Ans(4, v, \"m/s\")])\n",
    "\n",
    "print_ans(3)\n",
    "print_ans(4)"
   ]
  },
  {
   "cell_type": "markdown",
   "metadata": {},
   "source": [
    "## Question 5 - 6"
   ]
  },
  {
   "cell_type": "code",
   "execution_count": 8,
   "metadata": {},
   "outputs": [
    {
     "name": "stdout",
     "output_type": "stream",
     "text": [
      "Ans 05: \t 9.24 m/s\n",
      "Ans 06: \t 5.00 m\n"
     ]
    }
   ],
   "source": [
    "g = 9.8\n",
    "m = 0.3\n",
    "k = 3000\n",
    "A = 10e-2\n",
    "\n",
    "e = elastic(k, A) + mgh(m, g, -A)\n",
    "(_, v_0_65, _) = solve_ke_transl(m=m, val=(e - mgh(m, g, 0.65)))\n",
    "\n",
    "(_, _, h_max, _) = solve_mgh(m=m, g=g, val=e)\n",
    "answers.append(Ans(5, v_0_65, \"m/s\"))\n",
    "answers.append(Ans(6, h_max, \"m\"))\n",
    "\n",
    "for i in [5, 6]:\n",
    "    print_ans(i)"
   ]
  },
  {
   "cell_type": "markdown",
   "metadata": {},
   "source": [
    "## Question 7 - 10"
   ]
  },
  {
   "cell_type": "code",
   "execution_count": 9,
   "metadata": {},
   "outputs": [
    {
     "name": "stdout",
     "output_type": "stream",
     "text": [
      "Ans 07: \t (3+2.4680851063829787j) m\n",
      "Ans 08: \t (3.884770790194639, 39.443961576874955) (m, deg)\n",
      "Ans 09: \t (0.7787774548605079+2.553191489361702j) m/s^2\n",
      "Ans 10: \t (2.6693222183820438, 73.03718440948528) (m/s^2, deg)\n"
     ]
    }
   ],
   "source": [
    "m1, m2, m3 = 1, 2.2, 1.5\n",
    "m_com = m1 + m2 + m3\n",
    "p1, p2, p3 = (0 + 5j, 3 + 3j, 5 + 0j)\n",
    "p_com = ((m1 * p1) + (m2 * p2) + (m3 * p3)) / (m_com)\n",
    "\n",
    "polar_p_com_r, polar_p_com_th = polar(p_com)\n",
    "\n",
    "F1, F2, F3 = (f_polar(10, 30 * dtr), -5, 7j)\n",
    "F_com = F1 + F2 + F3\n",
    "a_com = F_com / m_com\n",
    "\n",
    "polar_a_com_r, polar_a_com_th = polar(a_com)\n",
    "\n",
    "answers.append(Ans(7, p_com, \"m\"))\n",
    "answers.append(Ans(8, (polar_p_com_r, polar_p_com_th * rtd), \"(m, deg)\"))\n",
    "answers.append(Ans(9, a_com, \"m/s^2\"))\n",
    "answers.append(Ans(10, (polar_a_com_r, polar_a_com_th * rtd), \"(m/s^2, deg)\"))\n",
    "\n",
    "for i in [7, 8, 9, 10]:\n",
    "    print_ans(i)"
   ]
  },
  {
   "cell_type": "markdown",
   "metadata": {},
   "source": [
    "## Question 11"
   ]
  },
  {
   "cell_type": "code",
   "execution_count": 10,
   "metadata": {},
   "outputs": [
    {
     "name": "stdout",
     "output_type": "stream",
     "text": [
      "Ans 11: \t 1.88 m/s\n"
     ]
    }
   ],
   "source": [
    "m1, m2 = 3, 5\n",
    "v1, v2 = 5, 0\n",
    "m_com = m1 + m2\n",
    "\n",
    "v_f = ((m1 * v1) + (m2 * v2)) / m_com\n",
    "\n",
    "answers.append(Ans(11, v_f, \"m/s\"))\n",
    "print_ans(11)"
   ]
  },
  {
   "cell_type": "markdown",
   "metadata": {},
   "source": [
    "## Question 12 - 13"
   ]
  },
  {
   "cell_type": "code",
   "execution_count": 11,
   "metadata": {},
   "outputs": [
    {
     "name": "stdout",
     "output_type": "stream",
     "text": [
      "Ans 12: \t 3.83 m/s\n",
      "Ans 13: \t 1.28 m/s\n"
     ]
    }
   ],
   "source": [
    "g = 9.8\n",
    "m1, m2 = 6, 3\n",
    "hf = 0.75\n",
    "e = mgh(m2, g, hf)\n",
    "(_, u_2, _) = solve_ke_transl(m=m2, val=e)\n",
    "v_f = ((m1 * 0) + (m2 * u_2)) / (m1 + m2)\n",
    "\n",
    "answers.append(Ans(12, u_2, \"m/s\"))\n",
    "answers.append(Ans(13, v_f, \"m/s\"))\n",
    "\n",
    "for i in range(12, 13 + 1):\n",
    "    print_ans(i)"
   ]
  },
  {
   "cell_type": "markdown",
   "metadata": {},
   "source": [
    "## Question 14 - 15"
   ]
  },
  {
   "cell_type": "code",
   "execution_count": 12,
   "metadata": {},
   "outputs": [
    {
     "name": "stdout",
     "output_type": "stream",
     "text": [
      "Ans 14: \t 23.80 rad/s\n",
      "Ans 15: \t 10.40 rad/s^2\n"
     ]
    }
   ],
   "source": [
    "theta = lambda t: (5.2 * (t ** 2)) + (3 * t) - (1.2)\n",
    "omega = lambda t: (5.2 * 2 * (t)) + (3)\n",
    "alpha = lambda t: (5.2 * 2)\n",
    "\n",
    "answers.append(Ans(14, omega(2), \"rad/s\"))\n",
    "answers.append(Ans(15, alpha(2), \"rad/s^2\"))\n",
    "\n",
    "for i in [14, 15]:\n",
    "    print_ans(i)"
   ]
  },
  {
   "cell_type": "markdown",
   "metadata": {},
   "source": [
    "## Question 16 - 18"
   ]
  },
  {
   "cell_type": "code",
   "execution_count": 13,
   "metadata": {},
   "outputs": [
    {
     "name": "stdout",
     "output_type": "stream",
     "text": [
      "Ans 16: \t 36.00 m/s\n",
      "Ans 17: \t 1.05 s\n",
      "Ans 18: \t Centripetal (towards the center). \n"
     ]
    }
   ],
   "source": [
    "r, v = 1, 6\n",
    "a = (v ** 2) / r\n",
    "omega = v / r\n",
    "period = 2 * pi / omega\n",
    "\n",
    "answers.append(Ans(16, a, \"m/s\"))\n",
    "answers.append(Ans(17, period, \"s\"))\n",
    "answers.append(Ans(18, \"Centripetal (towards the center).\", \"\"))\n",
    "\n",
    "for i in [16, 17, 18]:\n",
    "    print_ans(i)"
   ]
  },
  {
   "cell_type": "markdown",
   "metadata": {},
   "source": [
    "## Question 19 - 20"
   ]
  },
  {
   "cell_type": "code",
   "execution_count": 14,
   "metadata": {},
   "outputs": [
    {
     "name": "stdout",
     "output_type": "stream",
     "text": [
      "Ans 19: \t -3.60 Nm\n",
      "Ans 20: \t -180.00 rad/s^2\n"
     ]
    }
   ],
   "source": [
    "r, m = 0.2, 0.5\n",
    "F = -18j\n",
    "tau = (F * r).imag\n",
    "i = (r ** 2) * m\n",
    "alpha = tau / i\n",
    "\n",
    "answers.append(Ans(19, tau, \"Nm\"))\n",
    "answers.append(Ans(20, alpha, \"rad/s^2\"))\n",
    "\n",
    "for i in [19, 20]:\n",
    "    print_ans(i)"
   ]
  },
  {
   "cell_type": "markdown",
   "metadata": {},
   "source": [
    "## Summary of Answers"
   ]
  },
  {
   "cell_type": "code",
   "execution_count": 15,
   "metadata": {},
   "outputs": [
    {
     "name": "stdout",
     "output_type": "stream",
     "text": [
      "Ans 01: \t 15.96 m/s\n",
      "Ans 02: \t 19.97 m/s\n",
      "Ans 03: \t 375.00 N/m\n",
      "Ans 04: \t 1.22 m/s\n",
      "Ans 05: \t 9.24 m/s\n",
      "Ans 06: \t 5.00 m\n",
      "Ans 07: \t (3+2.4680851063829787j) m\n",
      "Ans 08: \t (3.884770790194639, 39.443961576874955) (m, deg)\n",
      "Ans 09: \t (0.7787774548605079+2.553191489361702j) m/s^2\n",
      "Ans 10: \t (2.6693222183820438, 73.03718440948528) (m/s^2, deg)\n",
      "Ans 11: \t 1.88 m/s\n",
      "Ans 12: \t 3.83 m/s\n",
      "Ans 13: \t 1.28 m/s\n",
      "Ans 14: \t 23.80 rad/s\n",
      "Ans 15: \t 10.40 rad/s^2\n",
      "Ans 16: \t 36.00 m/s\n",
      "Ans 17: \t 1.05 s\n",
      "Ans 18: \t Centripetal (towards the center). \n",
      "Ans 19: \t -3.60 Nm\n",
      "Ans 20: \t -180.00 rad/s^2\n"
     ]
    }
   ],
   "source": [
    "for i in range(1, len(answers) + 1):\n",
    "    print_ans(i)"
   ]
  },
  {
   "cell_type": "markdown",
   "metadata": {},
   "source": [
    "---\n",
    "### The End\n",
    "---"
   ]
  }
 ],
 "metadata": {
  "kernelspec": {
   "display_name": "Python 3",
   "language": "python",
   "name": "python3"
  },
  "language_info": {
   "codemirror_mode": {
    "name": "ipython",
    "version": 3
   },
   "file_extension": ".py",
   "mimetype": "text/x-python",
   "name": "python",
   "nbconvert_exporter": "python",
   "pygments_lexer": "ipython3",
   "version": "3.8.3"
  }
 },
 "nbformat": 4,
 "nbformat_minor": 4
}
