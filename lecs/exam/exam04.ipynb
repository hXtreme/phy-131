{
 "cells": [
  {
   "cell_type": "markdown",
   "metadata": {},
   "source": [
    "# Exam 4\n",
    "_Date: 15 July, 2020_  \n",
    "__Name: Harsh Parekh__  \n",
    "__ID: hnp29__"
   ]
  },
  {
   "cell_type": "code",
   "execution_count": 1,
   "metadata": {},
   "outputs": [],
   "source": [
    "%load_ext lab_black\n",
    "\n",
    "from collections import namedtuple\n",
    "\n",
    "from math import *\n",
    "from cmath import *\n",
    "from math import sin, cos, tan, asin, acos, atan\n",
    "from typing import *\n",
    "import numpy as np\n",
    "\n",
    "Ans = namedtuple(\"Answer\", [\"num\", \"option\", \"ans\", \"unit\"])\n",
    "\n",
    "\n",
    "answers = dict()\n",
    "\n",
    "\n",
    "def respond(num: int, response, unit: str = None, option: str = None):\n",
    "    ans = Ans(\n",
    "        num,\n",
    "        option if option is not None else \"\",\n",
    "        response,\n",
    "        unit if unit is not None else \"\",\n",
    "    )\n",
    "    answers[ans.num] = ans\n",
    "    print_ans(ans)\n",
    "\n",
    "\n",
    "def print_ans(ans: Ans):\n",
    "    if type(ans.ans) in {int, float}:\n",
    "        print(f\"Ans {ans.num:02}: ({ans.option})\\t {ans.ans:.2f} {ans.unit}\")\n",
    "    else:\n",
    "        print(f\"Ans {ans.num:02}: ({ans.option})\\t {ans.ans} {ans.unit}\")\n",
    "\n",
    "\n",
    "rtd = 180.0 / pi\n",
    "dtr = pi / 180"
   ]
  },
  {
   "cell_type": "code",
   "execution_count": 2,
   "metadata": {},
   "outputs": [],
   "source": [
    "def f_polar(r, theta) -> complex:\n",
    "    x = r * cos(theta)\n",
    "    y = r * sin(theta)\n",
    "    return complex(x, y)\n",
    "\n",
    "\n",
    "def t_rect(x: complex) -> Tuple[float, float]:\n",
    "    return (x.real, x.imag)\n",
    "\n",
    "\n",
    "def dot(vec1: complex, vec2: complex) -> float:\n",
    "    x1, y1 = t_rect(vec1)\n",
    "    x2, y2 = t_rect(vec2)\n",
    "    return (x1 * x2) + (y1 * y2)\n",
    "\n",
    "\n",
    "sgn = lambda x: \"+\" if x > 0 else (\"-\" if x < 0 else \"0\")"
   ]
  },
  {
   "cell_type": "code",
   "execution_count": 3,
   "metadata": {},
   "outputs": [],
   "source": [
    "def solve_prod_eq_3(\n",
    "    x1: float = None, x2: float = None, x3: float = None, val: float = None\n",
    ") -> (float, float, float, float):\n",
    "    check_param = (val is None) + (x3 is None) + (x2 is None) + (x1 is None)\n",
    "    assert check_param <= 1\n",
    "    if val is None:\n",
    "        val = x1 * x2 * x3\n",
    "    if x3 is None:\n",
    "        x3 = val / (x1 * x2)\n",
    "    if x2 is None:\n",
    "        x2 = val / (x1 * x3)\n",
    "    if x1 is None:\n",
    "        x1 = val / (x2 * x3)\n",
    "    return (x1, x2, x3, val)"
   ]
  },
  {
   "cell_type": "code",
   "execution_count": 4,
   "metadata": {},
   "outputs": [],
   "source": [
    "mgh = lambda m, g, h: m * g * h\n",
    "\n",
    "\n",
    "def solve_mgh(\n",
    "    m: float = None, g: float = None, h: float = None, val: float = None\n",
    ") -> (float, float, float, float):\n",
    "    return solve_prod_eq_3(x1=m, x2=g, x3=h, val=val)\n",
    "\n",
    "\n",
    "elastic = lambda k, x: (0.5 * k) * (x ** 2)\n",
    "\n",
    "\n",
    "def solve_elastic(\n",
    "    k: float = None, x: float = None, val: float = None\n",
    ") -> (float, float, float):\n",
    "    (_, k, x2, val) = solve_prod_eq_3(\n",
    "        x1=0.5, x2=k, x3=(v ** 2 if v is not None else None), val=val\n",
    "    )\n",
    "    x = sqrt(x2)\n",
    "    return (k, x, val)\n",
    "\n",
    "\n",
    "ke_tr = lambda m, v: (0.5 * m) * (v ** 2)\n",
    "\n",
    "\n",
    "def solve_ke_transl(\n",
    "    m: float = None, v: float = None, val: float = None\n",
    ") -> (float, float, float):\n",
    "    (_, m, v2, val) = solve_prod_eq_3(\n",
    "        x1=0.5, x2=m, x3=(v ** 2 if v is not None else None), val=val\n",
    "    )\n",
    "    v = v2 ** 0.5\n",
    "    return (m, v, val)\n",
    "\n",
    "\n",
    "ke_rot = lambda i, omega: (0.5 * i) * (omega ** 2)\n",
    "\n",
    "\n",
    "def solve_ke_rot(\n",
    "    i: float = None, omega: float = None, val: float = None\n",
    ") -> (float, float, float):\n",
    "    (_, i, omega2, val) = solve_prod_eq_3(\n",
    "        x1=0.5, x2=i, x3=(omega ** 2 if omega is not None else None), val=val\n",
    "    )\n",
    "    omega = (omega2) ** 0.5\n",
    "    return (i, omega, val)"
   ]
  },
  {
   "cell_type": "markdown",
   "metadata": {},
   "source": [
    "## Question 1 - 3"
   ]
  },
  {
   "cell_type": "code",
   "execution_count": 5,
   "metadata": {},
   "outputs": [
    {
     "name": "stdout",
     "output_type": "stream",
     "text": [
      "Ans 01: ()\t -8.26 Nm\n",
      "Ans 02: (D)\t The torque points into the screen \n",
      "Ans 03: ()\t -16.51 rad/s^2\n"
     ]
    }
   ],
   "source": [
    "i = 1\n",
    "\n",
    "f1, r1, th1 = 15, 0.75, 60 * dtr\n",
    "f2, r2, th2 = 6, 2, 30 * dtr\n",
    "\n",
    "torque1 = f1 * r1 * sin(th1)\n",
    "torque2 = f2 * f2 * (-sin(th2))\n",
    "torque_net = torque1 + torque2\n",
    "respond(i, torque_net, \"Nm\")\n",
    "\n",
    "i += 1\n",
    "respond(i, f\"The torque points into the screen\", option=\"D\")\n",
    "\n",
    "i += 1\n",
    "moment = 0.5\n",
    "ang_accel = torque_net / moment\n",
    "respond(i, ang_accel, \"rad/s^2\")"
   ]
  },
  {
   "cell_type": "markdown",
   "metadata": {},
   "source": [
    "## Question 4 - 5"
   ]
  },
  {
   "cell_type": "code",
   "execution_count": 6,
   "metadata": {},
   "outputs": [
    {
     "name": "stdout",
     "output_type": "stream",
     "text": [
      "Ans 04: (A)\t [-6.4 -6.4 -8.6] Nm\n",
      "Ans 05: (D)\t 83.60 degrees\n"
     ]
    }
   ],
   "source": [
    "i = 4\n",
    "force = np.array([2.5, 1.8, -3.2])\n",
    "x = np.array([0, 2, 0])\n",
    "o = np.array([2, 0, 0])\n",
    "r = x - o\n",
    "torque = np.cross(r, force)\n",
    "respond(i, torque, \"Nm\", option=\"A\")\n",
    "\n",
    "i += 1\n",
    "th = asin(np.linalg.norm(torque) / (np.linalg.norm(force) * np.linalg.norm(r))) * rtd\n",
    "respond(i, th, \"degrees\", option=\"D\")"
   ]
  },
  {
   "cell_type": "markdown",
   "metadata": {},
   "source": [
    "## Question 6 - 7"
   ]
  },
  {
   "cell_type": "code",
   "execution_count": 7,
   "metadata": {},
   "outputs": [
    {
     "name": "stdout",
     "output_type": "stream",
     "text": [
      "Ans 06: (C)\t 34.79 kg m^2/2\n",
      "Ans 07: (B)\t The angular momentum points out of the screen \n"
     ]
    }
   ],
   "source": [
    "i = 6\n",
    "\n",
    "m1, v1, r1, th1 = 5, 5, 0.75, 30 * dtr\n",
    "m2, v2, r2, th2 = 7.5, 8, 0.85, 60 * dtr\n",
    "\n",
    "l1 = r1 * v1 * (-sin(th1)) * m1\n",
    "l2 = r2 * v2 * (sin(th2)) * m2\n",
    "l = l1 + l2\n",
    "\n",
    "respond(i, abs(l), \"kg m^2/2\", option=\"C\")\n",
    "\n",
    "i += 1\n",
    "respond(i, f\"The angular momentum points out of the screen\", option=\"B\")"
   ]
  },
  {
   "cell_type": "markdown",
   "metadata": {},
   "source": [
    "## Question 8"
   ]
  },
  {
   "cell_type": "code",
   "execution_count": 8,
   "metadata": {},
   "outputs": [
    {
     "name": "stdout",
     "output_type": "stream",
     "text": [
      "Ans 08: (D)\t [-18.4  -50.96 -43.04] kg m^2/s\n"
     ]
    }
   ],
   "source": [
    "i = 8\n",
    "\n",
    "m = 4\n",
    "v = [2.5, 1.8, -3.2]\n",
    "x = [-3.2, 2, -1]\n",
    "\n",
    "l = np.cross(x, v) * m\n",
    "respond(i, l, \"kg m^2/s\", option=\"D\")"
   ]
  },
  {
   "cell_type": "markdown",
   "metadata": {},
   "source": [
    "## Question 9 - 11"
   ]
  },
  {
   "cell_type": "code",
   "execution_count": 9,
   "metadata": {},
   "outputs": [
    {
     "name": "stdout",
     "output_type": "stream",
     "text": [
      "Ans 09: (A)\t 0.09 kg m^2\n",
      "Ans 10: (A)\t 6.67 rad/s\n",
      "Ans 11: (C)\t 4.00 m/s (check answer)\n"
     ]
    }
   ],
   "source": [
    "i = 9  # First Question number\n",
    "\n",
    "m = 500e-3\n",
    "r = 50e-2\n",
    "r_final = r + 10e-2\n",
    "v_rim_init = 4\n",
    "ang_vel = v_rim_init / r\n",
    "inertia_init = (m * (r ** 2)) / 2\n",
    "\n",
    "inertia_final = (m * (r_final ** 2)) / 2\n",
    "respond(i, inertia_final, \"kg m^2\", option=\"A\")\n",
    "\n",
    "i += 1\n",
    "ke_rot_init = ke_rot(inertia_init, ang_vel)\n",
    "(_, ang_vel_final, _) = solve_ke_rot(i=inertia_final, val=ke_rot_init)\n",
    "respond(i, ang_vel_final, \"rad/s\", option=\"A\")\n",
    "\n",
    "i += 1\n",
    "v_rim_final = ang_vel_final * (r_final)\n",
    "respond(i, v_rim_final, \"m/s (check answer)\", option=\"C\")"
   ]
  },
  {
   "cell_type": "markdown",
   "metadata": {},
   "source": [
    "## Question 12 - 20"
   ]
  },
  {
   "cell_type": "code",
   "execution_count": 10,
   "metadata": {},
   "outputs": [
    {
     "name": "stdout",
     "output_type": "stream",
     "text": [
      "Ans 12: (B)\t -16.50 * sin(3.3t - 1.2) cm/s\n",
      "Ans 13: (D)\t -54.45 * cos(3.3t - 1.2) cm/s^2\n",
      "Ans 14: (B)\t 0.17 m/s\n",
      "Ans 15: (D)\t 0.54 m/s^2\n",
      "Ans 16: (C)\t 1.90 s\n",
      "Ans 17: (B)\t 1.81 cm\n",
      "Ans 18: (C)\t 0.33 N/m\n",
      "Ans 19: (C)\t 4.08E-4 J\n",
      "Ans 20: (B)\t 3.55E-4 J\n"
     ]
    }
   ],
   "source": [
    "i = 12  # First Question number\n",
    "\n",
    "m = 30e-3\n",
    "phi_0 = 1.2\n",
    "ang_freq = 3.3\n",
    "amp = 5e-2\n",
    "x = lambda t: amp * cos((ang_freq * t) - phi_0)\n",
    "\n",
    "v = lambda t: -(amp * ang_freq) * sin((ang_freq * t) - phi_0)\n",
    "respond(\n",
    "    i, f\"{-amp * ang_freq * 1e2:.2f} * sin({ang_freq}t - {phi_0})\", \"cm/s\", option=\"B\"\n",
    ")\n",
    "\n",
    "i += 1\n",
    "a = lambda t: -(amp * ang_freq * ang_freq) * cos((ang_freq * t) - phi_0)\n",
    "respond(\n",
    "    i,\n",
    "    f\"{-amp * ang_freq * ang_freq * 1e2:.2f} * cos({ang_freq}t - {phi_0})\",\n",
    "    \"cm/s^2\",\n",
    "    option=\"D\",\n",
    ")\n",
    "\n",
    "i += 1\n",
    "v_max = abs(-amp * ang_freq)\n",
    "respond(i, v_max, \"m/s\", option=\"B\")\n",
    "\n",
    "i += 1\n",
    "a_max = abs(-amp * ang_freq * ang_freq)\n",
    "respond(i, a_max, \"m/s^2\", option=\"D\")\n",
    "\n",
    "i += 1\n",
    "period = (2 * pi) / ang_freq\n",
    "respond(i, period, \"s\", option=\"C\")\n",
    "\n",
    "i += 1\n",
    "x_0 = x(0)\n",
    "respond(i, x_0 * 1e2, \"cm\", option=\"B\")\n",
    "\n",
    "i += 1\n",
    "k = (ang_freq ** 2) * m\n",
    "respond(i, k, \"N/m\", option=\"C\")\n",
    "\n",
    "i += 1\n",
    "e_tot = (k * (amp ** 2)) / 2\n",
    "respond(i, f\"{e_tot*1e4:.2f}E-4\", \"J\", option=\"C\")\n",
    "\n",
    "i += 1\n",
    "v_0 = v(0)\n",
    "ke_0 = (m * (v_0 ** 2)) / 2\n",
    "respond(i, f\"{ke_0*1e4:.2f}E-4\", \"J\", option=\"B\")"
   ]
  },
  {
   "cell_type": "markdown",
   "metadata": {},
   "source": [
    "## Summary of Answers"
   ]
  },
  {
   "cell_type": "code",
   "execution_count": 11,
   "metadata": {},
   "outputs": [
    {
     "name": "stdout",
     "output_type": "stream",
     "text": [
      "Ans 01: ()\t -8.26 Nm\n",
      "Ans 02: (D)\t The torque points into the screen \n",
      "Ans 03: ()\t -16.51 rad/s^2\n",
      "Ans 04: (A)\t [-6.4 -6.4 -8.6] Nm\n",
      "Ans 05: (D)\t 83.60 degrees\n",
      "Ans 06: (C)\t 34.79 kg m^2/2\n",
      "Ans 07: (B)\t The angular momentum points out of the screen \n",
      "Ans 08: (D)\t [-18.4  -50.96 -43.04] kg m^2/s\n",
      "Ans 09: (A)\t 0.09 kg m^2\n",
      "Ans 10: (A)\t 6.67 rad/s\n",
      "Ans 11: (C)\t 4.00 m/s (check answer)\n",
      "Ans 12: (B)\t -16.50 * sin(3.3t - 1.2) cm/s\n",
      "Ans 13: (D)\t -54.45 * cos(3.3t - 1.2) cm/s^2\n",
      "Ans 14: (B)\t 0.17 m/s\n",
      "Ans 15: (D)\t 0.54 m/s^2\n",
      "Ans 16: (C)\t 1.90 s\n",
      "Ans 17: (B)\t 1.81 cm\n",
      "Ans 18: (C)\t 0.33 N/m\n",
      "Ans 19: (C)\t 4.08E-4 J\n",
      "Ans 20: (B)\t 3.55E-4 J\n"
     ]
    }
   ],
   "source": [
    "for a in answers.values():\n",
    "    print_ans(a)"
   ]
  },
  {
   "cell_type": "markdown",
   "metadata": {},
   "source": [
    "---\n",
    "### The End\n",
    "---"
   ]
  }
 ],
 "metadata": {
  "kernelspec": {
   "display_name": "Python 3",
   "language": "python",
   "name": "python3"
  },
  "language_info": {
   "codemirror_mode": {
    "name": "ipython",
    "version": 3
   },
   "file_extension": ".py",
   "mimetype": "text/x-python",
   "name": "python",
   "nbconvert_exporter": "python",
   "pygments_lexer": "ipython3",
   "version": "3.8.3"
  }
 },
 "nbformat": 4,
 "nbformat_minor": 4
}
