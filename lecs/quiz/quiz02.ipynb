{
 "cells": [
  {
   "cell_type": "markdown",
   "metadata": {},
   "source": [
    "# Quiz 2\n",
    "\n",
    "_Date: 30 Jun, 2020_  \n",
    "__Name: Harsh Parekh__  \n",
    "__ID: hnp29__"
   ]
  },
  {
   "cell_type": "code",
   "execution_count": 1,
   "metadata": {},
   "outputs": [],
   "source": [
    "from math import *\n",
    "import numpy as np\n",
    "from cmath import *"
   ]
  },
  {
   "cell_type": "code",
   "execution_count": 3,
   "metadata": {},
   "outputs": [],
   "source": [
    "rtd = 180/pi\n",
    "dtr = pi/180\n",
    "\n",
    "def f_polar(r, theta):\n",
    "    x = r*cos(theta)\n",
    "    y = r*sin(theta)\n",
    "    return complex(x, y)"
   ]
  },
  {
   "cell_type": "markdown",
   "metadata": {},
   "source": [
    "## Question 1"
   ]
  },
  {
   "cell_type": "code",
   "execution_count": 15,
   "metadata": {},
   "outputs": [
    {
     "name": "stdout",
     "output_type": "stream",
     "text": [
      "C: (23.57844073678197+17.96185094767463j)\n",
      "r, th: (29.6406976477346, 37.299834752927715)\n"
     ]
    }
   ],
   "source": [
    "A = f_polar(20, 10*dtr)\n",
    "B = f_polar(15, 75*dtr)\n",
    "\n",
    "C = A + B\n",
    "r, th = polar(C)\n",
    "print(\n",
    "    f'C: {C}',\n",
    "    f'r, th: {r, th*rtd}',\n",
    "    sep='\\n'\n",
    ")"
   ]
  },
  {
   "cell_type": "markdown",
   "metadata": {},
   "source": [
    "## Question 2"
   ]
  },
  {
   "cell_type": "code",
   "execution_count": 9,
   "metadata": {},
   "outputs": [
    {
     "data": {
      "text/plain": [
       "56"
      ]
     },
     "execution_count": 9,
     "metadata": {},
     "output_type": "execute_result"
    }
   ],
   "source": [
    "A = 2 + 6j\n",
    "B = -1 + 3j\n",
    "\n",
    "AB = -2 + (6*3)\n",
    "AA = 4 + (6*6)\n",
    "\n",
    "AB + AA"
   ]
  },
  {
   "cell_type": "markdown",
   "metadata": {},
   "source": [
    "## Question 3 - 5"
   ]
  },
  {
   "cell_type": "code",
   "execution_count": 16,
   "metadata": {},
   "outputs": [
    {
     "name": "stdout",
     "output_type": "stream",
     "text": [
      "F_net; (6.718923361109949-18.332145214777903j)\n",
      "r, th: (19.524637751010218, -69.87158521640988)\n",
      "a:     9.762318875505109\n"
     ]
    }
   ],
   "source": [
    "g = 9.8\n",
    "m = 2\n",
    "\n",
    "F1 = f_polar(3, 25*dtr)\n",
    "F2 = 4\n",
    "w = -(m*g)*1j\n",
    "F_net = F1 + F2 + w\n",
    "r, th = polar(F_net)\n",
    "a, _ = polar(F_net/m)\n",
    "print(\n",
    "    f'F_net; {F_net}',\n",
    "    f'r, th: ({r}, {th*rtd})',\n",
    "    f'a:     {a}',\n",
    "    sep='\\n'\n",
    ")"
   ]
  }
 ],
 "metadata": {
  "kernelspec": {
   "display_name": "Python 3",
   "language": "python",
   "name": "python3"
  },
  "language_info": {
   "codemirror_mode": {
    "name": "ipython",
    "version": 3
   },
   "file_extension": ".py",
   "mimetype": "text/x-python",
   "name": "python",
   "nbconvert_exporter": "python",
   "pygments_lexer": "ipython3",
   "version": "3.8.3"
  }
 },
 "nbformat": 4,
 "nbformat_minor": 4
}
