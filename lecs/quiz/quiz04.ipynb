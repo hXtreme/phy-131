{
 "cells": [
  {
   "cell_type": "markdown",
   "metadata": {},
   "source": [
    "# Quiz 4\n",
    "_Date: 14 July, 2020_  \n",
    "__Name: Harsh Parekh__  \n",
    "__ID: hnp29__"
   ]
  },
  {
   "cell_type": "code",
   "execution_count": 1,
   "metadata": {},
   "outputs": [],
   "source": [
    "%load_ext lab_black\n",
    "\n",
    "from collections import namedtuple\n",
    "\n",
    "from math import *\n",
    "from cmath import *\n",
    "from typing import *\n",
    "import numpy as np\n",
    "\n",
    "Ans = namedtuple(\"Answer\", [\"num\", \"ans\", \"unit\"])\n",
    "\n",
    "\n",
    "answers = dict()\n",
    "\n",
    "\n",
    "def respond(ans: Ans):\n",
    "    answers[ans.num] = ans\n",
    "    print_ans(ans)\n",
    "\n",
    "\n",
    "def print_ans(ans: Ans):\n",
    "    if type(ans.ans) in {int, float}:\n",
    "        print(f\"Ans {ans.num:02}: \\t {ans.ans:.2f} {ans.unit}\")\n",
    "    else:\n",
    "        print(f\"Ans {ans.num:02}: \\t {ans.ans} {ans.unit}\")\n",
    "\n",
    "\n",
    "rtd = 180.0 / pi\n",
    "dtr = pi / 180"
   ]
  },
  {
   "cell_type": "code",
   "execution_count": 2,
   "metadata": {},
   "outputs": [],
   "source": [
    "def f_polar(r, theta) -> complex:\n",
    "    x = r * cos(theta)\n",
    "    y = r * sin(theta)\n",
    "    return complex(x, y)\n",
    "\n",
    "\n",
    "def t_rect(x: complex) -> Tuple[float, float]:\n",
    "    return (x.real, x.imag)\n",
    "\n",
    "\n",
    "def dot(vec1: complex, vec2: complex) -> float:\n",
    "    x1, y1 = t_rect(vec1)\n",
    "    x2, y2 = t_rect(vec2)\n",
    "    return (x1 * x2) + (y1 * y2)"
   ]
  },
  {
   "cell_type": "code",
   "execution_count": 3,
   "metadata": {},
   "outputs": [],
   "source": [
    "def solve_prod_eq_3(\n",
    "    x1: float = None, x2: float = None, x3: float = None, val: float = None\n",
    ") -> (float, float, float, float):\n",
    "    check_param = (val is None) + (x3 is None) + (x2 is None) + (x1 is None)\n",
    "    assert check_param <= 1\n",
    "    if val is None:\n",
    "        val = x1 * x2 * x3\n",
    "    if x3 is None:\n",
    "        x3 = val / (x1 * x2)\n",
    "    if x2 is None:\n",
    "        x2 = val / (x1 * x3)\n",
    "    if x1 is None:\n",
    "        x1 = val / (x2 * x3)\n",
    "    return (x1, x2, x3, val)"
   ]
  },
  {
   "cell_type": "code",
   "execution_count": 4,
   "metadata": {},
   "outputs": [],
   "source": [
    "mgh = lambda m, g, h: m * g * h\n",
    "\n",
    "\n",
    "def solve_mgh(\n",
    "    m: float = None, g: float = None, h: float = None, val: float = None\n",
    ") -> (float, float, float, float):\n",
    "    return solve_prod_eq_3(x1=m, x2=g, x3=h, val=val)\n",
    "\n",
    "\n",
    "elastic = lambda k, x: (0.5 * k) * (x ** 2)\n",
    "\n",
    "\n",
    "def solve_elastic(\n",
    "    k: float = None, x: float = None, val: float = None\n",
    ") -> (float, float, float):\n",
    "    (_, k, x2, val) = solve_prod_eq_3(\n",
    "        x1=0.5, x2=k, x3=(v ** 2 if v is not None else None), val=val\n",
    "    )\n",
    "    x = sqrt(x2)\n",
    "    return (k, x, val)\n",
    "\n",
    "\n",
    "ke_tr = lambda m, v: (0.5 * m) * (v ** 2)\n",
    "\n",
    "\n",
    "def solve_ke_transl(\n",
    "    m: float = None, v: float = None, val: float = None\n",
    ") -> (float, float, float):\n",
    "    (_, m, v2, val) = solve_prod_eq_3(\n",
    "        x1=0.5, x2=m, x3=(v ** 2 if v is not None else None), val=val\n",
    "    )\n",
    "    v = v2 ** 0.5\n",
    "    return (m, v, val)\n",
    "\n",
    "\n",
    "ke_rot = lambda i, omega: (0.5 * i) * (omega ** 2)\n",
    "\n",
    "\n",
    "def solve_ke_rot(\n",
    "    i: float = None, omega: float = None, val: float = None\n",
    ") -> (float, float, float):\n",
    "    (_, i, omega2, val) = solve_prod_eq_3(\n",
    "        x1=0.5, x2=i, x3=(omega ** 2 if omega is not None else None), val=val\n",
    "    )\n",
    "    omega = (omega2) ** 0.5\n",
    "    return (i, omega, val)"
   ]
  },
  {
   "cell_type": "markdown",
   "metadata": {},
   "source": [
    "## Question 1"
   ]
  },
  {
   "cell_type": "code",
   "execution_count": 5,
   "metadata": {},
   "outputs": [
    {
     "name": "stdout",
     "output_type": "stream",
     "text": [
      "Ans 01: \t [ 2 -4  0] \n"
     ]
    }
   ],
   "source": [
    "A = [2, 1, -3]\n",
    "B = [0, 0, 2]\n",
    "v = np.cross(A, B)\n",
    "respond(Ans(1, v, \"\"))"
   ]
  },
  {
   "cell_type": "markdown",
   "metadata": {},
   "source": [
    "## Question 2 - 3"
   ]
  },
  {
   "cell_type": "code",
   "execution_count": 6,
   "metadata": {},
   "outputs": [
    {
     "name": "stdout",
     "output_type": "stream",
     "text": [
      "Ans 02: \t 259.80762113533154 \n",
      "Ans 03: \t [ -0.           0.         259.80762114] \n"
     ]
    }
   ],
   "source": [
    "A = [20, 0, 0]\n",
    "b = f_polar(15, 60 * dtr)\n",
    "B = [b.real, b.imag]\n",
    "v = np.cross(A, B)\n",
    "mag = np.linalg.norm(v)\n",
    "respond(Ans(2, mag, \"\"))\n",
    "respond(Ans(3, v, \"\"))"
   ]
  },
  {
   "cell_type": "markdown",
   "metadata": {},
   "source": [
    "## Question 4"
   ]
  },
  {
   "cell_type": "code",
   "execution_count": 7,
   "metadata": {},
   "outputs": [
    {
     "name": "stdout",
     "output_type": "stream",
     "text": [
      "Ans 04: \t Maximize torque (Direction and distance) \n"
     ]
    }
   ],
   "source": [
    "respond(Ans(4, \"Maximize torque (Direction and distance)\", \"\"))"
   ]
  },
  {
   "cell_type": "markdown",
   "metadata": {},
   "source": [
    "## Question 5"
   ]
  },
  {
   "cell_type": "code",
   "execution_count": 8,
   "metadata": {},
   "outputs": [
    {
     "name": "stdout",
     "output_type": "stream",
     "text": [
      "Ans 05: \t 10.00 m/s\n"
     ]
    }
   ],
   "source": [
    "m = 0.5\n",
    "x = 2\n",
    "l = 10\n",
    "(m, v, x, l) = solve_prod_eq_3(x1=m, x3=x, val=l)\n",
    "respond(Ans(5, v, \"m/s\"))"
   ]
  },
  {
   "cell_type": "markdown",
   "metadata": {},
   "source": [
    "## Summary of Answers"
   ]
  },
  {
   "cell_type": "code",
   "execution_count": 9,
   "metadata": {},
   "outputs": [
    {
     "name": "stdout",
     "output_type": "stream",
     "text": [
      "Ans 01: \t [ 2 -4  0] \n",
      "Ans 02: \t 259.80762113533154 \n",
      "Ans 03: \t [ -0.           0.         259.80762114] \n",
      "Ans 04: \t Maximize torque (Direction and distance) \n",
      "Ans 05: \t 10.00 m/s\n"
     ]
    }
   ],
   "source": [
    "for a in answers.values():\n",
    "    print_ans(a)"
   ]
  },
  {
   "cell_type": "markdown",
   "metadata": {},
   "source": [
    "---\n",
    "### The End\n",
    "---"
   ]
  }
 ],
 "metadata": {
  "kernelspec": {
   "display_name": "Python 3",
   "language": "python",
   "name": "python3"
  },
  "language_info": {
   "codemirror_mode": {
    "name": "ipython",
    "version": 3
   },
   "file_extension": ".py",
   "mimetype": "text/x-python",
   "name": "python",
   "nbconvert_exporter": "python",
   "pygments_lexer": "ipython3",
   "version": "3.8.3"
  }
 },
 "nbformat": 4,
 "nbformat_minor": 4
}
